{
 "cells": [
  {
   "cell_type": "code",
   "execution_count": 1,
   "id": "b723fc74",
   "metadata": {},
   "outputs": [],
   "source": [
    "#This jupyter notebook takes the direct output of deeptools computeMatrix, and combines them into one datasheet for comparing peak intensities."
   ]
  },
  {
   "cell_type": "code",
   "execution_count": 2,
   "id": "ed5d2093",
   "metadata": {},
   "outputs": [],
   "source": [
    "import pandas as pd \n",
    "import numpy as np"
   ]
  },
  {
   "cell_type": "code",
   "execution_count": 3,
   "id": "1d3505dc",
   "metadata": {},
   "outputs": [],
   "source": [
    "def Onestep(matrix_name):\n",
    "    specific_rows = [0,1]\n",
    "    df=pd.read_csv(f\"Inputs/{matrix_name}\", sep='\\t', skiprows = lambda x: x in specific_rows)\n",
    "    dfA=df.fillna(0).astype(float).mean(axis=1).to_frame().rename(columns={0: matrix_name}).reset_index().drop(['index'], axis=1)\n",
    "    return dfA"
   ]
  },
  {
   "cell_type": "code",
   "execution_count": 4,
   "id": "6e91e574",
   "metadata": {},
   "outputs": [],
   "source": [
    "ATAC_pre_tTreg_TnG500 = Onestep('ATAC_pre_tTreg.bw_TnG500_matrix')\n",
    "ATAC_Treg_TnG500 = Onestep('ATAC_Treg.bw_TnG500_matrix')\n",
    "ATAC_tTreg_TnG500 = Onestep('ATAC_tTreg.bw_TnG500_matrix')\n",
    "Chips_TnG500 = Onestep('Chips.bw_TnG500_matrix')\n",
    "Cutruns_TnG500 = Onestep('Cutruns.bw_TnG500_matrix')\n",
    "Foxp3_Chipseq_Treg_TnG500 = Onestep('Foxp3_Chipseq_Treg.bw_TnG500_matrix')\n",
    "H3K27ac_Cd4CreSatb1CKO_pre_tTreg_TnG500 = Onestep('H3K27ac_Cd4CreSatb1CKO_pre_tTreg.bw_TnG500_matrix')\n",
    "H3K27ac_pre_tTreg_TnG500 = Onestep('H3K27ac_pre_tTreg.bw_TnG500_matrix')\n",
    "H3K27ac_Treg_TnG500 = Onestep('H3K27ac_Treg.bw_TnG500_matrix')\n",
    "H3K27ac_tTreg_TnG500 = Onestep('H3K27ac_tTreg.bw_TnG500_matrix')\n",
    "H3K27me3_pre_tTreg_TnG500 = Onestep('H3K27me3_pre_tTreg.bw_TnG500_matrix')\n",
    "H3K27me3_Treg_TnG500 = Onestep('H3K27me3_Treg.bw_TnG500_matrix')\n",
    "H3K27me3_tTreg_TnG500 = Onestep('H3K27me3_tTreg.bw_TnG500_matrix')\n",
    "H3K4me1_pre_tTreg_TnG500 = Onestep('H3K4me1_pre_tTreg.bw_TnG500_matrix')\n",
    "H3K4me1_Treg_TnG500 = Onestep('H3K4me1_Treg.bw_TnG500_matrix')\n",
    "H3K4me1_tTreg_TnG500 = Onestep('H3K4me1_tTreg.bw_TnG500_matrix')\n",
    "H3K4me3_pre_tTreg_TnG500 = Onestep('H3K4me3_pre_tTreg.bw_TnG500_matrix')\n",
    "H3K4me3_Treg_TnG500 = Onestep('H3K4me3_Treg.bw_TnG500_matrix')\n",
    "H3K4me3_tTreg_TnG500 = Onestep('H3K4me3_tTreg.bw_TnG500_matrix')\n",
    "MBD_pre_tTreg_TnG500 = Onestep('MBD_pre_tTreg.bw_TnG500_matrix')\n",
    "MBD_Treg_TnG500 = Onestep('MBD_Treg.bw_TnG500_matrix')\n",
    "MBD_tTreg_TnG500 = Onestep('MBD_tTreg.bw_TnG500_matrix')\n",
    "Fp3_act_TnG500 = Onestep('Fp3_act.bw_TnG500_matrix')\n",
    "Fp3_res_TnG500 = Onestep('Fp3_res.bw_TnG500_matrix')\n",
    "Kik_act_TnG500 = Onestep('Kik_act.bw_TnG500_matrix')\n",
    "Kik_res_TnG500 = Onestep('Kik_res.bw_TnG500_matrix')\n",
    "FPD_TnG500 = Onestep('FPD.bw_TnG500_matrix')\n",
    "SMC1a_TnG500 = Onestep('SMC1a.bw_TnG500_matrix')\n",
    "SMC1a_TnG500_refined = Onestep('CC_TnG_SMC1a500_refined_matrix')\n",
    "\n",
    "ATAC_pre_tTreg_nonTnG500 = Onestep('ATAC_pre_tTreg.bw_nonTnG500_matrix')\n",
    "ATAC_Treg_nonTnG500 = Onestep('ATAC_Treg.bw_nonTnG500_matrix')\n",
    "ATAC_tTreg_nonTnG500 = Onestep('ATAC_tTreg.bw_nonTnG500_matrix')\n",
    "Chips_nonTnG500 = Onestep('Chips.bw_nonTnG500_matrix')\n",
    "Cutruns_nonTnG500 = Onestep('Cutruns.bw_nonTnG500_matrix')\n",
    "Foxp3_Chipseq_Treg_nonTnG500 = Onestep('Foxp3_Chipseq_Treg.bw_nonTnG500_matrix')\n",
    "H3K27ac_Cd4CreSatb1CKO_pre_tTreg_nonTnG500 = Onestep('H3K27ac_Cd4CreSatb1CKO_pre_tTreg.bw_nonTnG500_matrix')\n",
    "H3K27ac_pre_tTreg_nonTnG500 = Onestep('H3K27ac_pre_tTreg.bw_nonTnG500_matrix')\n",
    "H3K27ac_Treg_nonTnG500 = Onestep('H3K27ac_Treg.bw_nonTnG500_matrix')\n",
    "H3K27ac_tTreg_nonTnG500 = Onestep('H3K27ac_tTreg.bw_nonTnG500_matrix')\n",
    "H3K27me3_pre_tTreg_nonTnG500 = Onestep('H3K27me3_pre_tTreg.bw_nonTnG500_matrix')\n",
    "H3K27me3_Treg_nonTnG500 = Onestep('H3K27me3_Treg.bw_nonTnG500_matrix')\n",
    "H3K27me3_tTreg_nonTnG500 = Onestep('H3K27me3_tTreg.bw_nonTnG500_matrix')\n",
    "H3K4me1_pre_tTreg_nonTnG500 = Onestep('H3K4me1_pre_tTreg.bw_nonTnG500_matrix')\n",
    "H3K4me1_Treg_nonTnG500 = Onestep('H3K4me1_Treg.bw_nonTnG500_matrix')\n",
    "H3K4me1_tTreg_nonTnG500 = Onestep('H3K4me1_tTreg.bw_nonTnG500_matrix')\n",
    "H3K4me3_pre_tTreg_nonTnG500 = Onestep('H3K4me3_pre_tTreg.bw_nonTnG500_matrix')\n",
    "H3K4me3_Treg_nonTnG500 = Onestep('H3K4me3_Treg.bw_nonTnG500_matrix')\n",
    "H3K4me3_tTreg_nonTnG500 = Onestep('H3K4me3_tTreg.bw_nonTnG500_matrix')\n",
    "MBD_pre_tTreg_nonTnG500 = Onestep('MBD_pre_tTreg.bw_nonTnG500_matrix')\n",
    "MBD_Treg_nonTnG500 = Onestep('MBD_Treg.bw_nonTnG500_matrix')\n",
    "MBD_tTreg_nonTnG500 = Onestep('MBD_tTreg.bw_nonTnG500_matrix')\n",
    "Fp3_act_nonTnG500 = Onestep('Fp3_act.bw_nonTnG500_matrix')\n",
    "Fp3_res_nonTnG500 = Onestep('Fp3_res.bw_nonTnG500_matrix')\n",
    "Kik_act_nonTnG500 = Onestep('Kik_act.bw_nonTnG500_matrix')\n",
    "Kik_res_nonTnG500 = Onestep('Kik_res.bw_nonTnG500_matrix')\n",
    "FPD_nonTnG500 = Onestep('FPD.bw_nonTnG500_matrix')\n",
    "SMC1a_nonTnG500 = Onestep('SMC1a.bw_nonTnG500_matrix')\n",
    "SMC1a_nonTnG500_refined = Onestep('CC_nonTnG_SMC1a500_refined_matrix')"
   ]
  },
  {
   "cell_type": "code",
   "execution_count": 5,
   "id": "ddcff34b",
   "metadata": {},
   "outputs": [],
   "source": [
    "TnG_peak=pd.concat([ATAC_pre_tTreg_TnG500 , ATAC_Treg_TnG500 , ATAC_tTreg_TnG500 , Chips_TnG500 , Cutruns_TnG500 , Foxp3_Chipseq_Treg_TnG500 , H3K27ac_Cd4CreSatb1CKO_pre_tTreg_TnG500 , H3K27ac_pre_tTreg_TnG500 , H3K27ac_Treg_TnG500 , H3K27ac_tTreg_TnG500 , H3K27me3_pre_tTreg_TnG500 , H3K27me3_Treg_TnG500 , H3K27me3_tTreg_TnG500 , H3K4me1_pre_tTreg_TnG500 , H3K4me1_Treg_TnG500 , H3K4me1_tTreg_TnG500 , H3K4me3_pre_tTreg_TnG500 , H3K4me3_Treg_TnG500 , H3K4me3_tTreg_TnG500 , MBD_pre_tTreg_TnG500 , MBD_Treg_TnG500 , MBD_tTreg_TnG500 , Fp3_act_TnG500 , Fp3_res_TnG500 , Kik_act_TnG500 , Kik_res_TnG500, FPD_TnG500, SMC1a_TnG500, SMC1a_TnG500_refined], axis=1)\n",
    "nonTnG_peak=pd.concat([ATAC_pre_tTreg_nonTnG500 , ATAC_Treg_nonTnG500 , ATAC_tTreg_nonTnG500 , Chips_nonTnG500 , Cutruns_nonTnG500 , Foxp3_Chipseq_Treg_nonTnG500 , H3K27ac_Cd4CreSatb1CKO_pre_tTreg_nonTnG500 , H3K27ac_pre_tTreg_nonTnG500 , H3K27ac_Treg_nonTnG500 , H3K27ac_tTreg_nonTnG500 , H3K27me3_pre_tTreg_nonTnG500 , H3K27me3_Treg_nonTnG500 , H3K27me3_tTreg_nonTnG500 , H3K4me1_pre_tTreg_nonTnG500 , H3K4me1_Treg_nonTnG500 , H3K4me1_tTreg_nonTnG500 , H3K4me3_pre_tTreg_nonTnG500 , H3K4me3_Treg_nonTnG500 , H3K4me3_tTreg_nonTnG500 , MBD_pre_tTreg_nonTnG500 , MBD_Treg_nonTnG500 , MBD_tTreg_nonTnG500 , Fp3_act_nonTnG500 , Fp3_res_nonTnG500 , Kik_act_nonTnG500 , Kik_res_nonTnG500, FPD_nonTnG500, SMC1a_nonTnG500,  SMC1a_nonTnG500_refined], axis=1)\n"
   ]
  },
  {
   "cell_type": "code",
   "execution_count": 6,
   "id": "e21713c1",
   "metadata": {},
   "outputs": [],
   "source": [
    "TnG_peak.to_csv(\"TnG_peak_500.csv\")\n",
    "nonTnG_peak.to_csv(\"nonTnG_peak_500.csv\")"
   ]
  },
  {
   "cell_type": "code",
   "execution_count": null,
   "id": "c76ac57a",
   "metadata": {},
   "outputs": [],
   "source": []
  }
 ],
 "metadata": {
  "kernelspec": {
   "display_name": "Python 3 (ipykernel)",
   "language": "python",
   "name": "python3"
  },
  "language_info": {
   "codemirror_mode": {
    "name": "ipython",
    "version": 3
   },
   "file_extension": ".py",
   "mimetype": "text/x-python",
   "name": "python",
   "nbconvert_exporter": "python",
   "pygments_lexer": "ipython3",
   "version": "3.9.12"
  }
 },
 "nbformat": 4,
 "nbformat_minor": 5
}
