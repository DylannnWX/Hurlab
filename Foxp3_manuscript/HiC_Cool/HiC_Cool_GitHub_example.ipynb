{
 "cells": [
  {
   "cell_type": "code",
   "execution_count": null,
   "id": "70b05de7",
   "metadata": {},
   "outputs": [],
   "source": [
    "import pandas as pd\n",
    "import numpy as np\n",
    "import cooler\n",
    "from hic2cool import hic2cool_convert"
   ]
  },
  {
   "cell_type": "code",
   "execution_count": null,
   "id": "3e7463e1",
   "metadata": {},
   "outputs": [],
   "source": [
    "#Convert the HiC to cool file for futher operation. The resolution can be different in other datasets; here we use 10k as an example.\n",
    "hic2cool_convert('HiChip_FoxP3_Treg_R1.hic', 'HiChip1.cool', 10000)\n",
    "hic2cool_convert('HiChip_FoxP3_Treg_R2.hic', 'HiChip2.cool', 10000)"
   ]
  },
  {
   "cell_type": "code",
   "execution_count": null,
   "id": "088be16d",
   "metadata": {},
   "outputs": [],
   "source": [
    "#Convert the cool file to txt so that we can load them into pandas dataframe.\n",
    "!cooler dump --join HiChip1.cool > HiChip1.txt\n",
    "!cooler dump --join HiChip2.cool > HiChip2.txt\n",
    "!cooler dump --join PLACseq.cool > PLACseq.txt"
   ]
  },
  {
   "cell_type": "code",
   "execution_count": null,
   "id": "b412e719",
   "metadata": {},
   "outputs": [],
   "source": [
    "#Read the TnG and NTnG bin files.\n",
    "mm10TnG=pd.read_csv(\"SaDi_TnGBins_mm10.bed\",sep='\\t', names=['Chr', 'Start', 'End'],header=None)\n",
    "mm10NTnG=pd.read_csv(\"SaDi_NTnGBins_mm10.bed\",sep='\\t', names=['Chr', 'Start', 'End'],header=None)\n",
    "mm9TnG=pd.read_csv(\"SaDi_TnGBins_mm9.bed\",sep='\\t', names=['Chr', 'Start', 'End'],header=None)\n",
    "mm9NTnG=pd.read_csv(\"SaDi_NTnGBins_mm9.bed\",sep='\\t', names=['Chr', 'Start', 'End'],header=None)"
   ]
  },
  {
   "cell_type": "code",
   "execution_count": null,
   "id": "d43bd533",
   "metadata": {},
   "outputs": [],
   "source": [
    "#Read the converted cooler txt files into pandas dataframes.\n",
    "HiChip1=pd.read_csv(\"HiChip1.txt\", sep='\\t', names=['ChrA', 'StartA', 'EndA','ChrB', 'StartB', 'EndB', \"Ncontact\"],header=None)\n",
    "HiChip2=pd.read_csv(\"HiChip2.txt\", sep='\\t', names=['ChrA', 'StartA', 'EndA','ChrB', 'StartB', 'EndB', \"Ncontact\"],header=None)\n",
    "PLACseq=pd.read_csv(\"PLACseq.txt\", sep='\\t', names=['ChrA', 'StartA', 'EndA','ChrB', 'StartB', 'EndB', \"Ncontact\"],header=None)"
   ]
  },
  {
   "cell_type": "code",
   "execution_count": null,
   "id": "3e7d2696",
   "metadata": {},
   "outputs": [],
   "source": [
    "#This function does the below three things:\n",
    "#1. It takes the input of cool files and load into pandas dataframes. Each bin is given a unique name by its Chr, start and end.\n",
    "#2. It takes the input of TnG or NTnG bin files, in either mm9 or mm10 genome. The HiChips are in mm10 genome, while PLACseq is in mm9.\n",
    "#3. Saves the TnG/NTnG filtered cooler dataframes into csv files.\n",
    "#4. A minimum of 2 is used to filter out low contact frequencies. You can change this if you want.\n",
    "def Mean_Ncontact(coolname, dfA, dfB, filename):\n",
    "    dfcool=pd.read_csv(f\"{coolname}.txt\", sep='\\t', names=['ChrA', 'StartA', 'EndA','ChrB', 'StartB', 'EndB', \"Ncontact\"],header=None)\n",
    "    dfcool[\"BinNameA\"]=dfcool['ChrA'] + \"_\" + dfcool[\"StartA\"].astype(str) + \"to\" + dfcool[\"EndA\"].astype(str)\n",
    "    dfcool[\"BinNameB\"]=dfcool['ChrB'] + \"_\" + dfcool[\"StartB\"].astype(str) + \"to\" + dfcool[\"EndB\"].astype(str)\n",
    "    dfA[\"BinNameA\"]=dfA['Chr'] + \"_\" + dfA[\"Start\"].astype(str) + \"to\" + dfA[\"End\"].astype(str)\n",
    "    dfB[\"BinNameB\"]=dfB['Chr'] + \"_\" + dfB[\"Start\"].astype(str) + \"to\" + dfB[\"End\"].astype(str)\n",
    "    dfcoolA = dfcool[dfcool.set_index(['BinNameA']).index.isin(dfA.set_index(['BinNameA']).index)]\n",
    "    dfcoolAB = dfcoolA[dfcoolA.set_index(['BinNameB']).index.isin(dfB.set_index(['BinNameB']).index)]\n",
    "    #A filter of 2 is used below.\n",
    "    dfcoolAB=dfcoolAB.loc[dfcoolAB['Ncontact'] > 2]\n",
    "    dfcoolAB = dfcoolAB[dfcoolAB['BinNameA'] != dfcoolAB['BinNameB']]\n",
    "    #The next line calculates average if cool input is merged from multiple replicates\n",
    "    dfcoolAB[\"Ncontact\"]=dfcoolAB[\"Ncontact\"]/2\n",
    "    print(\"Mean Ncontact: \", dfcoolAB['Ncontact'].mean())\n",
    "    dfcoolAB2=dfcoolAB.drop(columns=['BinNameA', 'BinNameB'])\n",
    "    dfcoolAB3=dfcoolAB2.sort_values(by='Ncontact', ascending=False)\n",
    "    dfcoolAB3.to_csv(f'{filename}.csv', index=False)\n",
    "    del dfcool, dfcoolA, dfcoolAB, dfcoolAB2, dfcoolAB3\n",
    "    #return dfcoolAB"
   ]
  },
  {
   "cell_type": "code",
   "execution_count": null,
   "id": "e75c64e5",
   "metadata": {},
   "outputs": [],
   "source": [
    "#Here we get the TnG-TnG, TnG-NTnG and NTnG-NTnG contact numbers and save them automatically to csv files.\n",
    "Mean_Ncontact(\"HiChip1\", mm10TnG, mm10TnG, \"HiChip1_2TnG\")\n",
    "Mean_Ncontact(\"HiChip1\", mm10TnG, mm10NTnG, \"HiChip1_TnGNTnG\")\n",
    "Mean_Ncontact(\"HiChip1\", mm10NTnG, mm10NTnG, \"HiChip1_2NTnG\")\n",
    "Mean_Ncontact(\"HiChip1\", mm10NTnG, mm10TnG, \"HiChip1_NTnGTnG\")\n",
    "Mean_Ncontact(\"HiChip2\", mm10TnG, mm10TnG, \"HiChip2_2TnG\")\n",
    "Mean_Ncontact(\"HiChip2\", mm10TnG, mm10NTnG, \"HiChip2_TnGNTnG\")\n",
    "Mean_Ncontact(\"HiChip2\", mm10NTnG, mm10NTnG, \"HiChip2_2NTnG\")\n",
    "Mean_Ncontact(\"HiChip2\", mm10NTnG, mm10TnG, \"HiChip2_NTnGTnG\")\n",
    "Mean_Ncontact(\"PLACseq\", mm9TnG, mm9TnG, \"PLACseq_2TnG\")\n",
    "Mean_Ncontact(\"PLACseq\", mm9TnG, mm9NTnG, \"PLACseq_TnGNTnG\")\n",
    "Mean_Ncontact(\"PLACseq\", mm9NTnG, mm9NTnG, \"PLACseq_2NTnG\")\n",
    "Mean_Ncontact(\"PLACseq\", mm9NTnG, mm9TnG, \"PLACseq_NTnGTnG\")"
   ]
  },
  {
   "cell_type": "code",
   "execution_count": null,
   "id": "8c2a724c",
   "metadata": {},
   "outputs": [],
   "source": [
    "#This function takes the above csv files, return the contact pairs as indexes so we can concat them later.\n",
    "def Contactpairs(filename, pairname, samplename):\n",
    "    dfcool=pd.read_csv(f\"{filename}.csv\")\n",
    "    dfcool[\"BinNameA\"]= dfcool['ChrA'] + \"_\" + dfcool[\"StartA\"].astype(str) + \"to\" + dfcool[\"EndA\"].astype(str)\n",
    "    dfcool[\"BinNameB\"]= dfcool['ChrB'] + \"_\" + dfcool[\"StartB\"].astype(str) + \"to\" + dfcool[\"EndB\"].astype(str)\n",
    "    dfcool['Contact_pair'] = dfcool[\"BinNameA\"] + \"and\" + dfcool[\"BinNameB\"]\n",
    "    #dfcool['Contact_group']= pairname\n",
    "    dfcool=dfcool.drop(columns=['ChrA', 'StartA', 'EndA', 'ChrB', 'StartB', 'EndB', \"BinNameA\", \"BinNameB\"])\n",
    "    dfcool=dfcool.rename(columns={\"Ncontact\": f\"{samplename}\"})\n",
    "    dfcool=dfcool.set_index([\"Contact_pair\"])\n",
    "    return dfcool"
   ]
  },
  {
   "cell_type": "code",
   "execution_count": null,
   "id": "d53826cf",
   "metadata": {},
   "outputs": [],
   "source": [
    "#Processing all the HiChip samples here and save them into csv files:\n",
    "#All of the csv files generated were uploaded in the \"expected_output\" folder in this GitHub repo.\n",
    "HiChip1_2TnG=Contactpairs(\"HiChip1_2TnG\", \"2TnG\", \"HiChip1\")\n",
    "HiChip1_2NTnG=Contactpairs(\"HiChip1_2NTnG\", \"2NTnG\", \"HiChip1\")\n",
    "HiChip1_TnGNTnG=Contactpairs(\"HiChip1_TnGNTnG\", \"TnGNTnG\", \"HiChip1\")\n",
    "HiChip2_2TnG=Contactpairs(\"HiChip2_2TnG\", \"2TnG\", \"HiChip2\")\n",
    "HiChip2_2NTnG=Contactpairs(\"HiChip2_2NTnG\", \"2NTnG\", \"HiChip2\")\n",
    "HiChip2_TnGNTnG=Contactpairs(\"HiChip2_TnGNTnG\", \"TnGNTnG\", \"HiChip2\")\n",
    "HiChip_2TnG=pd.concat([HiChip1_2TnG, HiChip2_2TnG], axis=1).fillna(0)\n",
    "HiChip_2TnG[\"Contact_group_HiChip\"]=\"2TnG\"\n",
    "HiChip_2NTnG=pd.concat([HiChip1_2NTnG, HiChip2_2NTnG], axis=1).fillna(0)\n",
    "HiChip_2NTnG[\"Contact_group_HiChip\"]=\"2NTnG\"\n",
    "HiChip_TnGNTnG=pd.concat([HiChip1_TnGNTnG, HiChip2_TnGNTnG], axis=1).fillna(0)\n",
    "HiChip_TnGNTnG[\"Contact_group_HiChip\"]=\"TnGNTnG\"\n",
    "HiChip=pd.concat([HiChip_2TnG, HiChip_2NTnG,HiChip_TnGNTnG], axis=0).fillna(0)"
   ]
  },
  {
   "cell_type": "code",
   "execution_count": null,
   "id": "90703a76",
   "metadata": {},
   "outputs": [],
   "source": [
    "#Process all the PLACseq samples here and save them into csv files:\n",
    "#All of the csv files generated were uploaded in the \"expected_output\" folder in this GitHub repo.\n",
    "PLACseq_2TnG=Contactpairs(\"PLACseq_2TnG\", \"2TnG\", \"PLACseq\")\n",
    "PLACseq_2NTnG=Contactpairs(\"PLACseq_2NTnG\", \"2NTnG\", \"PLACseq\")\n",
    "PLACseq_TnGNTnG=Contactpairs(\"PLACseq_TnGNTnG\", \"TnGNTnG\", \"PLACseq\")\n",
    "PLACseq_2TnG[\"Contact_group_PLACseq\"]=\"2TnG\"\n",
    "PLACseq_2NTnG[\"Contact_group_PLACseq\"]=\"2NTnG\"\n",
    "PLACseq_TnGNTnG[\"Contact_group_PLACseq\"]=\"TnGNTnG\"\n",
    "AllTPLACseq=pd.concat([PLACseq_2TnG, PLACseq_2NTnG, PLACseq_TnGNTnG], axis=0).fillna(0)"
   ]
  },
  {
   "cell_type": "code",
   "execution_count": null,
   "id": "c09fca89",
   "metadata": {},
   "outputs": [],
   "source": []
  }
 ],
 "metadata": {
  "kernelspec": {
   "display_name": "Python 3 (ipykernel)",
   "language": "python",
   "name": "python3"
  },
  "language_info": {
   "codemirror_mode": {
    "name": "ipython",
    "version": 3
   },
   "file_extension": ".py",
   "mimetype": "text/x-python",
   "name": "python",
   "nbconvert_exporter": "python",
   "pygments_lexer": "ipython3",
   "version": "3.9.12"
  }
 },
 "nbformat": 4,
 "nbformat_minor": 5
}
